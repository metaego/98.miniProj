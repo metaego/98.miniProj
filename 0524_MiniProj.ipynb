{
 "cells": [
  {
   "cell_type": "markdown",
   "metadata": {},
   "source": [
    "# Mini Project\n",
    "### 주제: 음식 배달 프로그램 만들기\n",
    "### 일자: 05.24 ~ 05.25\n",
    "### 기여자: 박태영, 유지현, 최한승, 김수연\n",
    "### logic \n",
    "> 1. 로그인\n",
    "> 2. 주소 입력 및 구 선택\n",
    "> 3. 배달 가능한 매장 선택\n",
    "> 4. 메뉴 선택\n",
    "> 5. 배송비 계산\n",
    "\\&nbsp;배송비= |가게 구 번호 - 지역번호| * 1000 "
   ]
  },
  {
   "cell_type": "code",
   "execution_count": 1,
   "metadata": {},
   "outputs": [],
   "source": [
    "# 1. 로그인"
   ]
  },
  {
   "cell_type": "code",
   "execution_count": null,
   "metadata": {},
   "outputs": [],
   "source": [
    "# 2. 주소 입력 및 구 선택"
   ]
  },
  {
   "cell_type": "code",
   "execution_count": null,
   "metadata": {},
   "outputs": [],
   "source": [
    "# 3. 배달 가능한 매장 선택"
   ]
  },
  {
   "cell_type": "code",
   "execution_count": null,
   "metadata": {},
   "outputs": [],
   "source": [
    "# 4. 메뉴 선택"
   ]
  },
  {
   "cell_type": "code",
   "execution_count": null,
   "metadata": {},
   "outputs": [],
   "source": [
    "# 5. 배송비 계산\n",
    "# 배송비 = \\가게 구 번호 - 지역번호\\*1000"
   ]
  },
  {
   "cell_type": "code",
   "execution_count": null,
   "metadata": {},
   "outputs": [],
   "source": [
    "# 6. 메뉴명, 메뉴 가격, 배달비, 총 합산액 출력"
   ]
  }
 ],
 "metadata": {
  "kernelspec": {
   "display_name": "Python 3",
   "language": "python",
   "name": "python3"
  },
  "language_info": {
   "codemirror_mode": {
    "name": "ipython",
    "version": 3
   },
   "file_extension": ".py",
   "mimetype": "text/x-python",
   "name": "python",
   "nbconvert_exporter": "python",
   "pygments_lexer": "ipython3",
   "version": "3.8.5"
  }
 },
 "nbformat": 4,
 "nbformat_minor": 4
}
